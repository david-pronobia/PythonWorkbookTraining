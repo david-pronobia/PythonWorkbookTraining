{
  "cells": [
    {
      "metadata": {
        "trusted": true
      },
      "cell_type": "code",
      "source": "import pandas as pd",
      "execution_count": 1,
      "outputs": []
    },
    {
      "metadata": {
        "trusted": true
      },
      "cell_type": "code",
      "source": "price_data = pd.read_csv('price.csv')",
      "execution_count": 6,
      "outputs": []
    },
    {
      "metadata": {
        "trusted": true
      },
      "cell_type": "code",
      "source": "price_data.head()",
      "execution_count": 7,
      "outputs": [
        {
          "output_type": "execute_result",
          "execution_count": 7,
          "data": {
            "text/html": "<div>\n<style scoped>\n    .dataframe tbody tr th:only-of-type {\n        vertical-align: middle;\n    }\n\n    .dataframe tbody tr th {\n        vertical-align: top;\n    }\n\n    .dataframe thead th {\n        text-align: right;\n    }\n</style>\n<table border=\"1\" class=\"dataframe\">\n  <thead>\n    <tr style=\"text-align: right;\">\n      <th></th>\n      <th>Things</th>\n      <th>Quantity</th>\n      <th>Total_Price</th>\n    </tr>\n  </thead>\n  <tbody>\n    <tr>\n      <th>0</th>\n      <td>Spoon</td>\n      <td>105.0</td>\n      <td>1050</td>\n    </tr>\n    <tr>\n      <th>1</th>\n      <td>Plate</td>\n      <td>78.0</td>\n      <td>2250</td>\n    </tr>\n    <tr>\n      <th>2</th>\n      <td>Cup</td>\n      <td>90.0</td>\n      <td>1550</td>\n    </tr>\n    <tr>\n      <th>3</th>\n      <td>Fork</td>\n      <td>NaN</td>\n      <td>890</td>\n    </tr>\n    <tr>\n      <th>4</th>\n      <td>Bread</td>\n      <td>21.0</td>\n      <td>620</td>\n    </tr>\n  </tbody>\n</table>\n</div>",
            "text/plain": "  Things  Quantity  Total_Price\n0  Spoon     105.0         1050\n1  Plate      78.0         2250\n2    Cup      90.0         1550\n3   Fork       NaN          890\n4  Bread      21.0          620"
          },
          "metadata": {}
        }
      ]
    },
    {
      "metadata": {
        "trusted": true
      },
      "cell_type": "code",
      "source": "",
      "execution_count": null,
      "outputs": []
    }
  ],
  "metadata": {
    "kernelspec": {
      "name": "python36",
      "display_name": "Python 3.6",
      "language": "python"
    },
    "language_info": {
      "mimetype": "text/x-python",
      "nbconvert_exporter": "python",
      "name": "python",
      "pygments_lexer": "ipython3",
      "version": "3.6.6",
      "file_extension": ".py",
      "codemirror_mode": {
        "version": 3,
        "name": "ipython"
      }
    }
  },
  "nbformat": 4,
  "nbformat_minor": 2
}