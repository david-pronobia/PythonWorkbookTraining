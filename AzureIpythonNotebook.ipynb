{
  "cells": [
    {
      "metadata": {
        "trusted": true,
        "tags": []
      },
      "cell_type": "code",
      "source": [
        "!pip install pandas"
      ],
      "execution_count": 1,
      "outputs": [
        {
          "output_type": "stream",
          "name": "stdout",
          "text": "Defaulting to user installation because normal site-packages is not writeable\nCollecting pandas\n  Downloading pandas-0.25.3-cp35-cp35m-manylinux1_x86_64.whl (10.3 MB)\n\u001b[K     |████████████████████████████████| 10.3 MB 9.2 MB/s \n\u001b[?25hCollecting pytz>=2017.2\n  Downloading pytz-2020.1-py2.py3-none-any.whl (510 kB)\n\u001b[K     |████████████████████████████████| 510 kB 81.7 MB/s \n\u001b[?25hCollecting numpy>=1.13.3\n  Downloading numpy-1.18.5-cp35-cp35m-manylinux1_x86_64.whl (19.9 MB)\n\u001b[K     |████████████████████████████████| 19.9 MB 64.0 MB/s \n\u001b[?25hRequirement already satisfied: python-dateutil>=2.6.1 in /home/codespace/.local/lib/python3.5/site-packages (from pandas) (2.8.1)\nRequirement already satisfied: six>=1.5 in /home/codespace/.local/lib/python3.5/site-packages (from python-dateutil>=2.6.1->pandas) (1.15.0)\nInstalling collected packages: pytz, numpy, pandas\nSuccessfully installed numpy-1.18.5 pandas-0.25.3 pytz-2020.1\n"
        }
      ]
    },
    {
      "metadata": {
        "trusted": true
      },
      "cell_type": "code",
      "source": [
        "import pandas as pd"
      ],
      "execution_count": 2,
      "outputs": []
    },
    {
      "metadata": {
        "trusted": true
      },
      "cell_type": "code",
      "source": [
        "price_data = pd.read_csv('price.csv')"
      ],
      "execution_count": 3,
      "outputs": []
    },
    {
      "metadata": {
        "trusted": true
      },
      "cell_type": "code",
      "source": [
        "price_data.head()"
      ],
      "execution_count": 4,
      "outputs": [
        {
          "output_type": "execute_result",
          "data": {
            "text/html": "<div>\n<style scoped>\n    .dataframe tbody tr th:only-of-type {\n        vertical-align: middle;\n    }\n\n    .dataframe tbody tr th {\n        vertical-align: top;\n    }\n\n    .dataframe thead th {\n        text-align: right;\n    }\n</style>\n<table border=\"1\" class=\"dataframe\">\n  <thead>\n    <tr style=\"text-align: right;\">\n      <th></th>\n      <th>Things</th>\n      <th>Quantity</th>\n      <th>Total_Price</th>\n    </tr>\n  </thead>\n  <tbody>\n    <tr>\n      <th>0</th>\n      <td>Spoon</td>\n      <td>105.0</td>\n      <td>1050</td>\n    </tr>\n    <tr>\n      <th>1</th>\n      <td>Plate</td>\n      <td>78.0</td>\n      <td>2250</td>\n    </tr>\n    <tr>\n      <th>2</th>\n      <td>Cup</td>\n      <td>90.0</td>\n      <td>1550</td>\n    </tr>\n    <tr>\n      <th>3</th>\n      <td>Fork</td>\n      <td>NaN</td>\n      <td>890</td>\n    </tr>\n    <tr>\n      <th>4</th>\n      <td>Bread</td>\n      <td>21.0</td>\n      <td>620</td>\n    </tr>\n  </tbody>\n</table>\n</div>",
            "text/plain": "  Things  Quantity  Total_Price\n0  Spoon     105.0         1050\n1  Plate      78.0         2250\n2    Cup      90.0         1550\n3   Fork       NaN          890\n4  Bread      21.0          620"
          },
          "metadata": {},
          "execution_count": 4
        }
      ]
    },
    {
      "metadata": {
        "trusted": true
      },
      "cell_type": "code",
      "source": [
        "price_data.isnull()"
      ],
      "execution_count": 5,
      "outputs": [
        {
          "output_type": "execute_result",
          "data": {
            "text/html": "<div>\n<style scoped>\n    .dataframe tbody tr th:only-of-type {\n        vertical-align: middle;\n    }\n\n    .dataframe tbody tr th {\n        vertical-align: top;\n    }\n\n    .dataframe thead th {\n        text-align: right;\n    }\n</style>\n<table border=\"1\" class=\"dataframe\">\n  <thead>\n    <tr style=\"text-align: right;\">\n      <th></th>\n      <th>Things</th>\n      <th>Quantity</th>\n      <th>Total_Price</th>\n    </tr>\n  </thead>\n  <tbody>\n    <tr>\n      <th>0</th>\n      <td>False</td>\n      <td>False</td>\n      <td>False</td>\n    </tr>\n    <tr>\n      <th>1</th>\n      <td>False</td>\n      <td>False</td>\n      <td>False</td>\n    </tr>\n    <tr>\n      <th>2</th>\n      <td>False</td>\n      <td>False</td>\n      <td>False</td>\n    </tr>\n    <tr>\n      <th>3</th>\n      <td>False</td>\n      <td>True</td>\n      <td>False</td>\n    </tr>\n    <tr>\n      <th>4</th>\n      <td>False</td>\n      <td>False</td>\n      <td>False</td>\n    </tr>\n    <tr>\n      <th>5</th>\n      <td>False</td>\n      <td>False</td>\n      <td>False</td>\n    </tr>\n  </tbody>\n</table>\n</div>",
            "text/plain": "   Things  Quantity  Total_Price\n0   False     False        False\n1   False     False        False\n2   False     False        False\n3   False      True        False\n4   False     False        False\n5   False     False        False"
          },
          "metadata": {},
          "execution_count": 5
        }
      ]
    },
    {
      "metadata": {
        "trusted": true
      },
      "cell_type": "code",
      "source": [
        "price_data = price_data.fillna(0)"
      ],
      "execution_count": 6,
      "outputs": []
    },
    {
      "metadata": {
        "trusted": true
      },
      "cell_type": "code",
      "source": [
        "price_data.head()"
      ],
      "execution_count": 8,
      "outputs": [
        {
          "output_type": "execute_result",
          "execution_count": 8,
          "data": {
            "text/html": "<div>\n<style scoped>\n    .dataframe tbody tr th:only-of-type {\n        vertical-align: middle;\n    }\n\n    .dataframe tbody tr th {\n        vertical-align: top;\n    }\n\n    .dataframe thead th {\n        text-align: right;\n    }\n</style>\n<table border=\"1\" class=\"dataframe\">\n  <thead>\n    <tr style=\"text-align: right;\">\n      <th></th>\n      <th>Things</th>\n      <th>Quantity</th>\n      <th>Total_Price</th>\n    </tr>\n  </thead>\n  <tbody>\n    <tr>\n      <th>0</th>\n      <td>Spoon</td>\n      <td>105.0</td>\n      <td>1050</td>\n    </tr>\n    <tr>\n      <th>1</th>\n      <td>Plate</td>\n      <td>78.0</td>\n      <td>2250</td>\n    </tr>\n    <tr>\n      <th>2</th>\n      <td>Cup</td>\n      <td>90.0</td>\n      <td>1550</td>\n    </tr>\n    <tr>\n      <th>3</th>\n      <td>Fork</td>\n      <td>0.0</td>\n      <td>890</td>\n    </tr>\n    <tr>\n      <th>4</th>\n      <td>Bread</td>\n      <td>21.0</td>\n      <td>620</td>\n    </tr>\n  </tbody>\n</table>\n</div>",
            "text/plain": "  Things  Quantity  Total_Price\n0  Spoon     105.0         1050\n1  Plate      78.0         2250\n2    Cup      90.0         1550\n3   Fork       0.0          890\n4  Bread      21.0          620"
          },
          "metadata": {}
        }
      ]
    },
    {
      "metadata": {
        "trusted": true
      },
      "cell_type": "code",
      "source": [],
      "execution_count": null,
      "outputs": []
    },
    {
      "metadata": {
        "trusted": true
      },
      "cell_type": "code",
      "source": [],
      "execution_count": null,
      "outputs": []
    },
    {
      "metadata": {
        "trusted": true
      },
      "cell_type": "code",
      "source": [],
      "execution_count": null,
      "outputs": []
    },
    {
      "metadata": {
        "trusted": true
      },
      "cell_type": "code",
      "source": [],
      "execution_count": null,
      "outputs": []
    },
    {
      "metadata": {
        "trusted": true
      },
      "cell_type": "code",
      "source": [],
      "execution_count": null,
      "outputs": []
    },
    {
      "metadata": {
        "trusted": true
      },
      "cell_type": "code",
      "source": [],
      "execution_count": null,
      "outputs": []
    },
    {
      "metadata": {
        "trusted": true
      },
      "cell_type": "code",
      "source": [],
      "execution_count": null,
      "outputs": []
    },
    {
      "metadata": {
        "trusted": true
      },
      "cell_type": "code",
      "source": [],
      "execution_count": null,
      "outputs": []
    },
    {
      "metadata": {
        "trusted": true
      },
      "cell_type": "code",
      "source": [],
      "execution_count": null,
      "outputs": []
    },
    {
      "metadata": {
        "trusted": true
      },
      "cell_type": "code",
      "source": [],
      "execution_count": null,
      "outputs": []
    },
    {
      "metadata": {
        "trusted": true
      },
      "cell_type": "code",
      "source": [],
      "execution_count": null,
      "outputs": []
    }
  ],
  "metadata": {
    "kernelspec": {
      "name": "python_defaultSpec_1597766260564",
      "display_name": "Python 3.5.3 64-bit",
      "language": "python"
    },
    "language_info": {
      "mimetype": "text/x-python",
      "nbconvert_exporter": "python",
      "name": "python",
      "pygments_lexer": "ipython3",
      "version": "3.5.3-final",
      "file_extension": ".py",
      "codemirror_mode": {
        "version": 3,
        "name": "ipython"
      }
    }
  },
  "nbformat": 4,
  "nbformat_minor": 2
}